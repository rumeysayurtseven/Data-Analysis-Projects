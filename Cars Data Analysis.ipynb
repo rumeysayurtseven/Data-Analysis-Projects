{
 "cells": [
  {
   "cell_type": "code",
   "execution_count": 1,
   "id": "5a3c211b",
   "metadata": {},
   "outputs": [],
   "source": [
    "import pandas as pd\n",
    "import os\n",
    "import numpy as np"
   ]
  },
  {
   "cell_type": "code",
   "execution_count": 2,
   "id": "ef61b817",
   "metadata": {},
   "outputs": [
    {
     "data": {
      "text/plain": [
       "['.ipynb_checkpoints',\n",
       " 'income.csv',\n",
       " 'Introduction with pandas .ipynb',\n",
       " 'Iris_data_sample.xlsx',\n",
       " 'Toyota.csv',\n",
       " 'Untitled.ipynb']"
      ]
     },
     "execution_count": 2,
     "metadata": {},
     "output_type": "execute_result"
    }
   ],
   "source": [
    "os.listdir()"
   ]
  },
  {
   "cell_type": "code",
   "execution_count": 3,
   "id": "f357c537",
   "metadata": {},
   "outputs": [],
   "source": [
    "df_cars=pd.read_csv(\"Toyota.csv\", index_col=0)"
   ]
  },
  {
   "cell_type": "code",
   "execution_count": 4,
   "id": "e1f6b6e7",
   "metadata": {},
   "outputs": [],
   "source": [
    "df_cars1 = df_cars.copy(deep=True)"
   ]
  },
  {
   "cell_type": "markdown",
   "id": "69386f4f",
   "metadata": {},
   "source": [
    "# Including data types"
   ]
  },
  {
   "cell_type": "code",
   "execution_count": 5,
   "id": "e7d49b68",
   "metadata": {},
   "outputs": [
    {
     "data": {
      "text/plain": [
       "Price          int64\n",
       "Age          float64\n",
       "KM            object\n",
       "FuelType      object\n",
       "HP            object\n",
       "MetColor     float64\n",
       "Automatic      int64\n",
       "CC             int64\n",
       "Doors         object\n",
       "Weight         int64\n",
       "dtype: object"
      ]
     },
     "execution_count": 5,
     "metadata": {},
     "output_type": "execute_result"
    }
   ],
   "source": [
    "df_cars1.dtypes #check data types"
   ]
  },
  {
   "cell_type": "code",
   "execution_count": 12,
   "id": "be67b3d9",
   "metadata": {},
   "outputs": [
    {
     "data": {
      "text/html": [
       "<div>\n",
       "<style scoped>\n",
       "    .dataframe tbody tr th:only-of-type {\n",
       "        vertical-align: middle;\n",
       "    }\n",
       "\n",
       "    .dataframe tbody tr th {\n",
       "        vertical-align: top;\n",
       "    }\n",
       "\n",
       "    .dataframe thead th {\n",
       "        text-align: right;\n",
       "    }\n",
       "</style>\n",
       "<table border=\"1\" class=\"dataframe\">\n",
       "  <thead>\n",
       "    <tr style=\"text-align: right;\">\n",
       "      <th></th>\n",
       "      <th>Price</th>\n",
       "      <th>Age</th>\n",
       "      <th>MetColor</th>\n",
       "      <th>Automatic</th>\n",
       "      <th>CC</th>\n",
       "      <th>Weight</th>\n",
       "    </tr>\n",
       "  </thead>\n",
       "  <tbody>\n",
       "    <tr>\n",
       "      <th>0</th>\n",
       "      <td>13500</td>\n",
       "      <td>23.0</td>\n",
       "      <td>1.0</td>\n",
       "      <td>0</td>\n",
       "      <td>2000</td>\n",
       "      <td>1165</td>\n",
       "    </tr>\n",
       "    <tr>\n",
       "      <th>1</th>\n",
       "      <td>13750</td>\n",
       "      <td>23.0</td>\n",
       "      <td>1.0</td>\n",
       "      <td>0</td>\n",
       "      <td>2000</td>\n",
       "      <td>1165</td>\n",
       "    </tr>\n",
       "    <tr>\n",
       "      <th>2</th>\n",
       "      <td>13950</td>\n",
       "      <td>24.0</td>\n",
       "      <td>NaN</td>\n",
       "      <td>0</td>\n",
       "      <td>2000</td>\n",
       "      <td>1165</td>\n",
       "    </tr>\n",
       "    <tr>\n",
       "      <th>3</th>\n",
       "      <td>14950</td>\n",
       "      <td>26.0</td>\n",
       "      <td>0.0</td>\n",
       "      <td>0</td>\n",
       "      <td>2000</td>\n",
       "      <td>1165</td>\n",
       "    </tr>\n",
       "    <tr>\n",
       "      <th>4</th>\n",
       "      <td>13750</td>\n",
       "      <td>30.0</td>\n",
       "      <td>0.0</td>\n",
       "      <td>0</td>\n",
       "      <td>2000</td>\n",
       "      <td>1170</td>\n",
       "    </tr>\n",
       "    <tr>\n",
       "      <th>...</th>\n",
       "      <td>...</td>\n",
       "      <td>...</td>\n",
       "      <td>...</td>\n",
       "      <td>...</td>\n",
       "      <td>...</td>\n",
       "      <td>...</td>\n",
       "    </tr>\n",
       "    <tr>\n",
       "      <th>1431</th>\n",
       "      <td>7500</td>\n",
       "      <td>NaN</td>\n",
       "      <td>1.0</td>\n",
       "      <td>0</td>\n",
       "      <td>1300</td>\n",
       "      <td>1025</td>\n",
       "    </tr>\n",
       "    <tr>\n",
       "      <th>1432</th>\n",
       "      <td>10845</td>\n",
       "      <td>72.0</td>\n",
       "      <td>0.0</td>\n",
       "      <td>0</td>\n",
       "      <td>1300</td>\n",
       "      <td>1015</td>\n",
       "    </tr>\n",
       "    <tr>\n",
       "      <th>1433</th>\n",
       "      <td>8500</td>\n",
       "      <td>NaN</td>\n",
       "      <td>0.0</td>\n",
       "      <td>0</td>\n",
       "      <td>1300</td>\n",
       "      <td>1015</td>\n",
       "    </tr>\n",
       "    <tr>\n",
       "      <th>1434</th>\n",
       "      <td>7250</td>\n",
       "      <td>70.0</td>\n",
       "      <td>1.0</td>\n",
       "      <td>0</td>\n",
       "      <td>1300</td>\n",
       "      <td>1015</td>\n",
       "    </tr>\n",
       "    <tr>\n",
       "      <th>1435</th>\n",
       "      <td>6950</td>\n",
       "      <td>76.0</td>\n",
       "      <td>0.0</td>\n",
       "      <td>0</td>\n",
       "      <td>1600</td>\n",
       "      <td>1114</td>\n",
       "    </tr>\n",
       "  </tbody>\n",
       "</table>\n",
       "<p>1436 rows × 6 columns</p>\n",
       "</div>"
      ],
      "text/plain": [
       "      Price   Age  MetColor  Automatic    CC  Weight\n",
       "0     13500  23.0       1.0          0  2000    1165\n",
       "1     13750  23.0       1.0          0  2000    1165\n",
       "2     13950  24.0       NaN          0  2000    1165\n",
       "3     14950  26.0       0.0          0  2000    1165\n",
       "4     13750  30.0       0.0          0  2000    1170\n",
       "...     ...   ...       ...        ...   ...     ...\n",
       "1431   7500   NaN       1.0          0  1300    1025\n",
       "1432  10845  72.0       0.0          0  1300    1015\n",
       "1433   8500   NaN       0.0          0  1300    1015\n",
       "1434   7250  70.0       1.0          0  1300    1015\n",
       "1435   6950  76.0       0.0          0  1600    1114\n",
       "\n",
       "[1436 rows x 6 columns]"
      ]
     },
     "execution_count": 12,
     "metadata": {},
     "output_type": "execute_result"
    }
   ],
   "source": [
    "#Select data based on data types\n",
    "df_cars1.select_dtypes(include=[], exclude=[object])"
   ]
  },
  {
   "cell_type": "code",
   "execution_count": 14,
   "id": "afd038ea",
   "metadata": {},
   "outputs": [
    {
     "name": "stdout",
     "output_type": "stream",
     "text": [
      "<class 'pandas.core.frame.DataFrame'>\n",
      "Int64Index: 1436 entries, 0 to 1435\n",
      "Data columns (total 10 columns):\n",
      " #   Column     Non-Null Count  Dtype  \n",
      "---  ------     --------------  -----  \n",
      " 0   Price      1436 non-null   int64  \n",
      " 1   Age        1336 non-null   float64\n",
      " 2   KM         1436 non-null   object \n",
      " 3   FuelType   1336 non-null   object \n",
      " 4   HP         1436 non-null   object \n",
      " 5   MetColor   1286 non-null   float64\n",
      " 6   Automatic  1436 non-null   int64  \n",
      " 7   CC         1436 non-null   int64  \n",
      " 8   Doors      1436 non-null   object \n",
      " 9   Weight     1436 non-null   int64  \n",
      "dtypes: float64(2), int64(4), object(4)\n",
      "memory usage: 123.4+ KB\n"
     ]
    }
   ],
   "source": [
    "#Concise Summary of Dataframe\n",
    "df_cars1.info()"
   ]
  },
  {
   "cell_type": "code",
   "execution_count": 16,
   "id": "7b2bd321",
   "metadata": {},
   "outputs": [
    {
     "name": "stdout",
     "output_type": "stream",
     "text": [
      "['1' '10000' '100123' ... '99865' '99971' '??']\n"
     ]
    }
   ],
   "source": [
    "# get unique Elements of Column\n",
    "print(np.unique(df_cars1['KM']))"
   ]
  },
  {
   "cell_type": "code",
   "execution_count": 17,
   "id": "4ad2576c",
   "metadata": {},
   "outputs": [
    {
     "name": "stdout",
     "output_type": "stream",
     "text": [
      "['107' '110' '116' '192' '69' '71' '72' '73' '86' '90' '97' '98' '????']\n"
     ]
    }
   ],
   "source": [
    "print(np.unique(df_cars1['HP']))"
   ]
  },
  {
   "cell_type": "code",
   "execution_count": 18,
   "id": "0ada5026",
   "metadata": {},
   "outputs": [
    {
     "name": "stdout",
     "output_type": "stream",
     "text": [
      "[ 0.  1. nan nan nan nan nan nan nan nan nan nan nan nan nan nan nan nan\n",
      " nan nan nan nan nan nan nan nan nan nan nan nan nan nan nan nan nan nan\n",
      " nan nan nan nan nan nan nan nan nan nan nan nan nan nan nan nan nan nan\n",
      " nan nan nan nan nan nan nan nan nan nan nan nan nan nan nan nan nan nan\n",
      " nan nan nan nan nan nan nan nan nan nan nan nan nan nan nan nan nan nan\n",
      " nan nan nan nan nan nan nan nan nan nan nan nan nan nan nan nan nan nan\n",
      " nan nan nan nan nan nan nan nan nan nan nan nan nan nan nan nan nan nan\n",
      " nan nan nan nan nan nan nan nan nan nan nan nan nan nan nan nan nan nan\n",
      " nan nan nan nan nan nan nan nan]\n"
     ]
    }
   ],
   "source": [
    "print(np.unique(df_cars1['MetColor']))"
   ]
  },
  {
   "cell_type": "code",
   "execution_count": 19,
   "id": "1aaad7c0",
   "metadata": {},
   "outputs": [
    {
     "name": "stdout",
     "output_type": "stream",
     "text": [
      "[0 1]\n"
     ]
    }
   ],
   "source": [
    "print(np.unique(df_cars1['Automatic']))"
   ]
  },
  {
   "cell_type": "code",
   "execution_count": 20,
   "id": "973fe8b5",
   "metadata": {},
   "outputs": [
    {
     "name": "stdout",
     "output_type": "stream",
     "text": [
      "['2' '3' '4' '5' 'five' 'four' 'three']\n"
     ]
    }
   ],
   "source": [
    "print(np.unique(df_cars1['Doors']))"
   ]
  },
  {
   "cell_type": "code",
   "execution_count": 21,
   "id": "03c1acff",
   "metadata": {},
   "outputs": [],
   "source": [
    "#create a new dataframe from df_cars1\n",
    "cars2 = pd.read_csv(\"Toyota.csv\", index_col=0, na_values=[\"??\", \"???\"])"
   ]
  },
  {
   "cell_type": "code",
   "execution_count": 22,
   "id": "a00adfd1",
   "metadata": {},
   "outputs": [
    {
     "name": "stdout",
     "output_type": "stream",
     "text": [
      "[  1.  15. 225. ...  nan  nan  nan]\n"
     ]
    }
   ],
   "source": [
    "print(np.unique(cars2[\"KM\"]))"
   ]
  },
  {
   "cell_type": "code",
   "execution_count": 23,
   "id": "32f2af07",
   "metadata": {},
   "outputs": [
    {
     "name": "stdout",
     "output_type": "stream",
     "text": [
      "['107' '110' '116' '192' '69' '71' '72' '73' '86' '90' '97' '98' '????']\n"
     ]
    }
   ],
   "source": [
    "print(np.unique(cars2[\"HP\"]))"
   ]
  },
  {
   "cell_type": "code",
   "execution_count": 25,
   "id": "f09d1b6f",
   "metadata": {},
   "outputs": [
    {
     "name": "stdout",
     "output_type": "stream",
     "text": [
      "<class 'pandas.core.frame.DataFrame'>\n",
      "Int64Index: 1436 entries, 0 to 1435\n",
      "Data columns (total 10 columns):\n",
      " #   Column     Non-Null Count  Dtype  \n",
      "---  ------     --------------  -----  \n",
      " 0   Price      1436 non-null   int64  \n",
      " 1   Age        1336 non-null   float64\n",
      " 2   KM         1436 non-null   object \n",
      " 3   FuelType   1336 non-null   object \n",
      " 4   HP         1436 non-null   object \n",
      " 5   MetColor   1286 non-null   float64\n",
      " 6   Automatic  1436 non-null   int64  \n",
      " 7   CC         1436 non-null   int64  \n",
      " 8   Doors      1436 non-null   object \n",
      " 9   Weight     1436 non-null   int64  \n",
      "dtypes: float64(2), int64(4), object(4)\n",
      "memory usage: 123.4+ KB\n"
     ]
    }
   ],
   "source": [
    "df_cars1.info()"
   ]
  },
  {
   "cell_type": "code",
   "execution_count": 24,
   "id": "af1fd2cc",
   "metadata": {},
   "outputs": [
    {
     "name": "stdout",
     "output_type": "stream",
     "text": [
      "<class 'pandas.core.frame.DataFrame'>\n",
      "Int64Index: 1436 entries, 0 to 1435\n",
      "Data columns (total 10 columns):\n",
      " #   Column     Non-Null Count  Dtype  \n",
      "---  ------     --------------  -----  \n",
      " 0   Price      1436 non-null   int64  \n",
      " 1   Age        1336 non-null   float64\n",
      " 2   KM         1421 non-null   float64\n",
      " 3   FuelType   1336 non-null   object \n",
      " 4   HP         1436 non-null   object \n",
      " 5   MetColor   1286 non-null   float64\n",
      " 6   Automatic  1436 non-null   int64  \n",
      " 7   CC         1436 non-null   int64  \n",
      " 8   Doors      1436 non-null   object \n",
      " 9   Weight     1436 non-null   int64  \n",
      "dtypes: float64(3), int64(4), object(3)\n",
      "memory usage: 123.4+ KB\n"
     ]
    }
   ],
   "source": [
    "cars2.info()"
   ]
  },
  {
   "cell_type": "code",
   "execution_count": 26,
   "id": "c0e7a2a5",
   "metadata": {},
   "outputs": [],
   "source": [
    "#Convert variable’s data types\n",
    "cars2[\"MetColor\"] = cars2[\"MetColor\"].astype(\"object\")"
   ]
  },
  {
   "cell_type": "code",
   "execution_count": 27,
   "id": "054ae105",
   "metadata": {},
   "outputs": [
    {
     "name": "stdout",
     "output_type": "stream",
     "text": [
      "<class 'pandas.core.frame.DataFrame'>\n",
      "Int64Index: 1436 entries, 0 to 1435\n",
      "Data columns (total 10 columns):\n",
      " #   Column     Non-Null Count  Dtype  \n",
      "---  ------     --------------  -----  \n",
      " 0   Price      1436 non-null   int64  \n",
      " 1   Age        1336 non-null   float64\n",
      " 2   KM         1421 non-null   float64\n",
      " 3   FuelType   1336 non-null   object \n",
      " 4   HP         1436 non-null   object \n",
      " 5   MetColor   1286 non-null   object \n",
      " 6   Automatic  1436 non-null   int64  \n",
      " 7   CC         1436 non-null   int64  \n",
      " 8   Doors      1436 non-null   object \n",
      " 9   Weight     1436 non-null   int64  \n",
      "dtypes: float64(2), int64(4), object(4)\n",
      "memory usage: 123.4+ KB\n"
     ]
    }
   ],
   "source": [
    "cars2.info()"
   ]
  },
  {
   "cell_type": "code",
   "execution_count": 29,
   "id": "56415df4",
   "metadata": {},
   "outputs": [],
   "source": [
    "cars2['Automatic'] = cars2['Automatic'].astype('object')"
   ]
  },
  {
   "cell_type": "code",
   "execution_count": 30,
   "id": "74d350b9",
   "metadata": {},
   "outputs": [],
   "source": [
    "#Clean column ‘Doors’ using replace function\n",
    "cars2[\"Doors\"].replace(\"three\",3, inplace = True)"
   ]
  },
  {
   "cell_type": "code",
   "execution_count": 31,
   "id": "d58b44d6",
   "metadata": {},
   "outputs": [],
   "source": [
    "cars2[\"Doors\"].replace(\"four\",4, inplace = True)"
   ]
  },
  {
   "cell_type": "code",
   "execution_count": 32,
   "id": "3bd6a667",
   "metadata": {},
   "outputs": [],
   "source": [
    "cars2[\"Doors\"].replace(\"five\",5, inplace = True)"
   ]
  },
  {
   "cell_type": "code",
   "execution_count": 33,
   "id": "b01a5693",
   "metadata": {},
   "outputs": [],
   "source": [
    "cars2['Doors'] = cars2['Doors'].astype('int64')"
   ]
  },
  {
   "cell_type": "code",
   "execution_count": 34,
   "id": "df3f5437",
   "metadata": {},
   "outputs": [
    {
     "name": "stdout",
     "output_type": "stream",
     "text": [
      "<class 'pandas.core.frame.DataFrame'>\n",
      "Int64Index: 1436 entries, 0 to 1435\n",
      "Data columns (total 10 columns):\n",
      " #   Column     Non-Null Count  Dtype  \n",
      "---  ------     --------------  -----  \n",
      " 0   Price      1436 non-null   int64  \n",
      " 1   Age        1336 non-null   float64\n",
      " 2   KM         1421 non-null   float64\n",
      " 3   FuelType   1336 non-null   object \n",
      " 4   HP         1436 non-null   object \n",
      " 5   MetColor   1286 non-null   object \n",
      " 6   Automatic  1436 non-null   object \n",
      " 7   CC         1436 non-null   int64  \n",
      " 8   Doors      1436 non-null   int64  \n",
      " 9   Weight     1436 non-null   int64  \n",
      "dtypes: float64(2), int64(4), object(4)\n",
      "memory usage: 123.4+ KB\n"
     ]
    }
   ],
   "source": [
    "cars2.info()"
   ]
  },
  {
   "cell_type": "markdown",
   "id": "150fad31",
   "metadata": {},
   "source": [
    "# Export data into files"
   ]
  },
  {
   "cell_type": "code",
   "execution_count": 35,
   "id": "eeeecefc",
   "metadata": {},
   "outputs": [],
   "source": [
    "cars2.to_csv(\"filtered.csv\", index=False)"
   ]
  },
  {
   "cell_type": "code",
   "execution_count": 36,
   "id": "a6b38bde",
   "metadata": {},
   "outputs": [
    {
     "name": "stdout",
     "output_type": "stream",
     "text": [
      "[2 3 4 5]\n"
     ]
    }
   ],
   "source": [
    "print(np.unique(cars2['Doors']))"
   ]
  },
  {
   "cell_type": "code",
   "execution_count": 37,
   "id": "867ba8be",
   "metadata": {},
   "outputs": [
    {
     "data": {
      "text/plain": [
       "Price          0\n",
       "Age          100\n",
       "KM            15\n",
       "FuelType     100\n",
       "HP             0\n",
       "MetColor     150\n",
       "Automatic      0\n",
       "CC             0\n",
       "Doors          0\n",
       "Weight         0\n",
       "dtype: int64"
      ]
     },
     "execution_count": 37,
     "metadata": {},
     "output_type": "execute_result"
    }
   ],
   "source": [
    "# detect missing values (isnull() and sum it)\n",
    "cars2.isnull().sum()"
   ]
  },
  {
   "cell_type": "code",
   "execution_count": 38,
   "id": "e8742cd5",
   "metadata": {},
   "outputs": [],
   "source": [
    "# Insert a new column in the dataframe cars2\n",
    "cars2.insert(10,\"Price_class\", \"\")"
   ]
  },
  {
   "cell_type": "code",
   "execution_count": 39,
   "id": "8a42ced7",
   "metadata": {},
   "outputs": [
    {
     "name": "stdout",
     "output_type": "stream",
     "text": [
      "<class 'pandas.core.frame.DataFrame'>\n",
      "Int64Index: 1436 entries, 0 to 1435\n",
      "Data columns (total 11 columns):\n",
      " #   Column       Non-Null Count  Dtype  \n",
      "---  ------       --------------  -----  \n",
      " 0   Price        1436 non-null   int64  \n",
      " 1   Age          1336 non-null   float64\n",
      " 2   KM           1421 non-null   float64\n",
      " 3   FuelType     1336 non-null   object \n",
      " 4   HP           1436 non-null   object \n",
      " 5   MetColor     1286 non-null   object \n",
      " 6   Automatic    1436 non-null   object \n",
      " 7   CC           1436 non-null   int64  \n",
      " 8   Doors        1436 non-null   int64  \n",
      " 9   Weight       1436 non-null   int64  \n",
      " 10  Price_class  1436 non-null   object \n",
      "dtypes: float64(2), int64(4), object(5)\n",
      "memory usage: 134.6+ KB\n"
     ]
    }
   ],
   "source": [
    "cars2.info()"
   ]
  },
  {
   "cell_type": "code",
   "execution_count": 42,
   "id": "6ee2d8dc",
   "metadata": {},
   "outputs": [
    {
     "name": "stderr",
     "output_type": "stream",
     "text": [
      "C:\\Users\\lenovo\\AppData\\Local\\Temp/ipykernel_36008/178357096.py:6: SettingWithCopyWarning: \n",
      "A value is trying to be set on a copy of a slice from a DataFrame\n",
      "\n",
      "See the caveats in the documentation: https://pandas.pydata.org/pandas-docs/stable/user_guide/indexing.html#returning-a-view-versus-a-copy\n",
      "  cars2[\"Price_class\"][i] = \"High\"\n",
      "C:\\Users\\lenovo\\AppData\\Local\\Temp/ipykernel_36008/178357096.py:4: SettingWithCopyWarning: \n",
      "A value is trying to be set on a copy of a slice from a DataFrame\n",
      "\n",
      "See the caveats in the documentation: https://pandas.pydata.org/pandas-docs/stable/user_guide/indexing.html#returning-a-view-versus-a-copy\n",
      "  cars2[\"Price_class\"][i] = \"Low\"\n",
      "C:\\Users\\lenovo\\AppData\\Local\\Temp/ipykernel_36008/178357096.py:8: SettingWithCopyWarning: \n",
      "A value is trying to be set on a copy of a slice from a DataFrame\n",
      "\n",
      "See the caveats in the documentation: https://pandas.pydata.org/pandas-docs/stable/user_guide/indexing.html#returning-a-view-versus-a-copy\n",
      "  cars2[\"Price_class\"][i]=\"Medium\"\n"
     ]
    }
   ],
   "source": [
    "#use for loop to categorize cars prices and save in the new column\n",
    "for i in range(0,len(cars2[\"Price\"]),1):\n",
    "    if(cars2[\"Price\"][i]<=8450):\n",
    "        cars2[\"Price_class\"][i] = \"Low\"\n",
    "    elif(cars2[\"Price\"][i]>11950):\n",
    "        cars2[\"Price_class\"][i] = \"High\"\n",
    "    else:\n",
    "        cars2[\"Price_class\"][i]=\"Medium\""
   ]
  },
  {
   "cell_type": "code",
   "execution_count": 43,
   "id": "7d42c423",
   "metadata": {
    "scrolled": true
   },
   "outputs": [
    {
     "name": "stdout",
     "output_type": "stream",
     "text": [
      "0         High\n",
      "1         High\n",
      "2         High\n",
      "3         High\n",
      "4         High\n",
      "         ...  \n",
      "1431       Low\n",
      "1432    Medium\n",
      "1433    Medium\n",
      "1434       Low\n",
      "1435       Low\n",
      "Name: Price_class, Length: 1436, dtype: object\n"
     ]
    }
   ],
   "source": [
    "print(cars2[\"Price_class\"])"
   ]
  },
  {
   "cell_type": "code",
   "execution_count": 44,
   "id": "86372775",
   "metadata": {},
   "outputs": [
    {
     "data": {
      "text/plain": [
       "Medium    751\n",
       "Low       369\n",
       "High      316\n",
       "Name: Price_class, dtype: int64"
      ]
     },
     "execution_count": 44,
     "metadata": {},
     "output_type": "execute_result"
    }
   ],
   "source": [
    "# Count the unique values in the Price_class column\n",
    "cars2[\"Price_class\"].value_counts()"
   ]
  },
  {
   "cell_type": "markdown",
   "id": "bd96971b",
   "metadata": {},
   "source": [
    "# Use functions"
   ]
  },
  {
   "cell_type": "code",
   "execution_count": null,
   "id": "aa863792",
   "metadata": {
    "scrolled": true
   },
   "outputs": [],
   "source": [
    "cars2.insert(11,\"Age_converted\",0)"
   ]
  },
  {
   "cell_type": "code",
   "execution_count": 50,
   "id": "bd4fb9d3",
   "metadata": {},
   "outputs": [],
   "source": [
    "# write a function to convert cars age from Months to years\n",
    "def c_convert(val):\n",
    "    val_converted = val/12\n",
    "    return val_converted"
   ]
  },
  {
   "cell_type": "code",
   "execution_count": 51,
   "id": "f848f351",
   "metadata": {},
   "outputs": [],
   "source": [
    "cars2[\"age_converted\"]=c_convert(cars2[\"Age\"])"
   ]
  },
  {
   "cell_type": "code",
   "execution_count": null,
   "id": "6cee7363",
   "metadata": {},
   "outputs": [],
   "source": [
    "cars2[\"age_converted\"]=round(c_convert(cars2[\"Age\"]),1)"
   ]
  },
  {
   "cell_type": "markdown",
   "id": "f9b9f0e4",
   "metadata": {},
   "source": [
    "# Convert cars age from months to years and to find km per month run by car"
   ]
  },
  {
   "cell_type": "code",
   "execution_count": 62,
   "id": "7bddba9e",
   "metadata": {},
   "outputs": [],
   "source": [
    "# we can use multi input and multi output with functions\n",
    "#to make changes in data \n",
    "def c_convert(val1,val2):\n",
    "    val_converted = val1 / 12\n",
    "    ratio = val2 /val1\n",
    "    return [val_converted, ratio]"
   ]
  },
  {
   "cell_type": "code",
   "execution_count": 72,
   "id": "561bc385",
   "metadata": {},
   "outputs": [],
   "source": [
    "cars2[\"age_converted\"],cars2[\"KM_per_month\"] = c_convert(cars2['Age'], cars2['KM'])\n"
   ]
  },
  {
   "cell_type": "code",
   "execution_count": 68,
   "id": "6504091b",
   "metadata": {},
   "outputs": [
    {
     "data": {
      "text/html": [
       "<div>\n",
       "<style scoped>\n",
       "    .dataframe tbody tr th:only-of-type {\n",
       "        vertical-align: middle;\n",
       "    }\n",
       "\n",
       "    .dataframe tbody tr th {\n",
       "        vertical-align: top;\n",
       "    }\n",
       "\n",
       "    .dataframe thead th {\n",
       "        text-align: right;\n",
       "    }\n",
       "</style>\n",
       "<table border=\"1\" class=\"dataframe\">\n",
       "  <thead>\n",
       "    <tr style=\"text-align: right;\">\n",
       "      <th></th>\n",
       "      <th>Price</th>\n",
       "      <th>Age</th>\n",
       "      <th>KM</th>\n",
       "      <th>FuelType</th>\n",
       "      <th>HP</th>\n",
       "      <th>MetColor</th>\n",
       "      <th>Automatic</th>\n",
       "      <th>CC</th>\n",
       "      <th>Doors</th>\n",
       "      <th>Weight</th>\n",
       "      <th>Price_class</th>\n",
       "      <th>Age_converted</th>\n",
       "      <th>KM_per_month</th>\n",
       "      <th>age_converted</th>\n",
       "      <th>km_per_month</th>\n",
       "    </tr>\n",
       "  </thead>\n",
       "  <tbody>\n",
       "    <tr>\n",
       "      <th>0</th>\n",
       "      <td>13500</td>\n",
       "      <td>23.0</td>\n",
       "      <td>46986.0</td>\n",
       "      <td>Diesel</td>\n",
       "      <td>90</td>\n",
       "      <td>1.0</td>\n",
       "      <td>0</td>\n",
       "      <td>2000</td>\n",
       "      <td>3</td>\n",
       "      <td>1165</td>\n",
       "      <td>High</td>\n",
       "      <td>0</td>\n",
       "      <td>2042.869565</td>\n",
       "      <td>1.916667</td>\n",
       "      <td>2042.869565</td>\n",
       "    </tr>\n",
       "    <tr>\n",
       "      <th>1</th>\n",
       "      <td>13750</td>\n",
       "      <td>23.0</td>\n",
       "      <td>72937.0</td>\n",
       "      <td>Diesel</td>\n",
       "      <td>90</td>\n",
       "      <td>1.0</td>\n",
       "      <td>0</td>\n",
       "      <td>2000</td>\n",
       "      <td>3</td>\n",
       "      <td>1165</td>\n",
       "      <td>High</td>\n",
       "      <td>0</td>\n",
       "      <td>3171.173913</td>\n",
       "      <td>1.916667</td>\n",
       "      <td>3171.173913</td>\n",
       "    </tr>\n",
       "    <tr>\n",
       "      <th>2</th>\n",
       "      <td>13950</td>\n",
       "      <td>24.0</td>\n",
       "      <td>41711.0</td>\n",
       "      <td>Diesel</td>\n",
       "      <td>90</td>\n",
       "      <td>NaN</td>\n",
       "      <td>0</td>\n",
       "      <td>2000</td>\n",
       "      <td>3</td>\n",
       "      <td>1165</td>\n",
       "      <td>High</td>\n",
       "      <td>0</td>\n",
       "      <td>1737.958333</td>\n",
       "      <td>2.000000</td>\n",
       "      <td>1737.958333</td>\n",
       "    </tr>\n",
       "    <tr>\n",
       "      <th>3</th>\n",
       "      <td>14950</td>\n",
       "      <td>26.0</td>\n",
       "      <td>48000.0</td>\n",
       "      <td>Diesel</td>\n",
       "      <td>90</td>\n",
       "      <td>0.0</td>\n",
       "      <td>0</td>\n",
       "      <td>2000</td>\n",
       "      <td>3</td>\n",
       "      <td>1165</td>\n",
       "      <td>High</td>\n",
       "      <td>0</td>\n",
       "      <td>1846.153846</td>\n",
       "      <td>2.166667</td>\n",
       "      <td>1846.153846</td>\n",
       "    </tr>\n",
       "    <tr>\n",
       "      <th>4</th>\n",
       "      <td>13750</td>\n",
       "      <td>30.0</td>\n",
       "      <td>38500.0</td>\n",
       "      <td>Diesel</td>\n",
       "      <td>90</td>\n",
       "      <td>0.0</td>\n",
       "      <td>0</td>\n",
       "      <td>2000</td>\n",
       "      <td>3</td>\n",
       "      <td>1170</td>\n",
       "      <td>High</td>\n",
       "      <td>0</td>\n",
       "      <td>1283.333333</td>\n",
       "      <td>2.500000</td>\n",
       "      <td>1283.333333</td>\n",
       "    </tr>\n",
       "  </tbody>\n",
       "</table>\n",
       "</div>"
      ],
      "text/plain": [
       "   Price   Age       KM FuelType  HP MetColor Automatic    CC  Doors  Weight  \\\n",
       "0  13500  23.0  46986.0   Diesel  90      1.0         0  2000      3    1165   \n",
       "1  13750  23.0  72937.0   Diesel  90      1.0         0  2000      3    1165   \n",
       "2  13950  24.0  41711.0   Diesel  90      NaN         0  2000      3    1165   \n",
       "3  14950  26.0  48000.0   Diesel  90      0.0         0  2000      3    1165   \n",
       "4  13750  30.0  38500.0   Diesel  90      0.0         0  2000      3    1170   \n",
       "\n",
       "  Price_class  Age_converted  KM_per_month  age_converted  km_per_month  \n",
       "0        High              0   2042.869565       1.916667   2042.869565  \n",
       "1        High              0   3171.173913       1.916667   3171.173913  \n",
       "2        High              0   1737.958333       2.000000   1737.958333  \n",
       "3        High              0   1846.153846       2.166667   1846.153846  \n",
       "4        High              0   1283.333333       2.500000   1283.333333  "
      ]
     },
     "execution_count": 68,
     "metadata": {},
     "output_type": "execute_result"
    }
   ],
   "source": [
    "cars2.head()"
   ]
  },
  {
   "cell_type": "code",
   "execution_count": 73,
   "id": "7f0faa2c",
   "metadata": {},
   "outputs": [],
   "source": [
    "# need to drop the column Age converted because we have age_converted \n",
    "cars2 = cars2.drop(columns=[\"Age_converted\"])"
   ]
  },
  {
   "cell_type": "code",
   "execution_count": 75,
   "id": "e10c2688",
   "metadata": {},
   "outputs": [
    {
     "data": {
      "text/html": [
       "<div>\n",
       "<style scoped>\n",
       "    .dataframe tbody tr th:only-of-type {\n",
       "        vertical-align: middle;\n",
       "    }\n",
       "\n",
       "    .dataframe tbody tr th {\n",
       "        vertical-align: top;\n",
       "    }\n",
       "\n",
       "    .dataframe thead th {\n",
       "        text-align: right;\n",
       "    }\n",
       "</style>\n",
       "<table border=\"1\" class=\"dataframe\">\n",
       "  <thead>\n",
       "    <tr style=\"text-align: right;\">\n",
       "      <th></th>\n",
       "      <th>Price</th>\n",
       "      <th>Age</th>\n",
       "      <th>KM</th>\n",
       "      <th>FuelType</th>\n",
       "      <th>HP</th>\n",
       "      <th>MetColor</th>\n",
       "      <th>Automatic</th>\n",
       "      <th>CC</th>\n",
       "      <th>Doors</th>\n",
       "      <th>Weight</th>\n",
       "      <th>Price_class</th>\n",
       "      <th>KM_per_month</th>\n",
       "      <th>age_converted</th>\n",
       "      <th>km_per_month</th>\n",
       "    </tr>\n",
       "  </thead>\n",
       "  <tbody>\n",
       "    <tr>\n",
       "      <th>189</th>\n",
       "      <td>7750</td>\n",
       "      <td>43.0</td>\n",
       "      <td>178858.0</td>\n",
       "      <td>CNG</td>\n",
       "      <td>110</td>\n",
       "      <td>0.0</td>\n",
       "      <td>0</td>\n",
       "      <td>1600</td>\n",
       "      <td>3</td>\n",
       "      <td>1084</td>\n",
       "      <td>Low</td>\n",
       "      <td>4159.488372</td>\n",
       "      <td>3.583333</td>\n",
       "      <td>4159.488372</td>\n",
       "    </tr>\n",
       "    <tr>\n",
       "      <th>199</th>\n",
       "      <td>11950</td>\n",
       "      <td>NaN</td>\n",
       "      <td>98823.0</td>\n",
       "      <td>CNG</td>\n",
       "      <td>110</td>\n",
       "      <td>1.0</td>\n",
       "      <td>0</td>\n",
       "      <td>1600</td>\n",
       "      <td>5</td>\n",
       "      <td>1119</td>\n",
       "      <td>Medium</td>\n",
       "      <td>NaN</td>\n",
       "      <td>NaN</td>\n",
       "      <td>NaN</td>\n",
       "    </tr>\n",
       "    <tr>\n",
       "      <th>209</th>\n",
       "      <td>11950</td>\n",
       "      <td>37.0</td>\n",
       "      <td>82743.0</td>\n",
       "      <td>CNG</td>\n",
       "      <td>110</td>\n",
       "      <td>1.0</td>\n",
       "      <td>0</td>\n",
       "      <td>1600</td>\n",
       "      <td>5</td>\n",
       "      <td>1121</td>\n",
       "      <td>Medium</td>\n",
       "      <td>2236.297297</td>\n",
       "      <td>3.083333</td>\n",
       "      <td>2236.297297</td>\n",
       "    </tr>\n",
       "    <tr>\n",
       "      <th>223</th>\n",
       "      <td>14950</td>\n",
       "      <td>44.0</td>\n",
       "      <td>71793.0</td>\n",
       "      <td>CNG</td>\n",
       "      <td>110</td>\n",
       "      <td>NaN</td>\n",
       "      <td>0</td>\n",
       "      <td>1600</td>\n",
       "      <td>4</td>\n",
       "      <td>1067</td>\n",
       "      <td>High</td>\n",
       "      <td>1631.659091</td>\n",
       "      <td>3.666667</td>\n",
       "      <td>1631.659091</td>\n",
       "    </tr>\n",
       "    <tr>\n",
       "      <th>296</th>\n",
       "      <td>12950</td>\n",
       "      <td>44.0</td>\n",
       "      <td>41499.0</td>\n",
       "      <td>CNG</td>\n",
       "      <td>110</td>\n",
       "      <td>1.0</td>\n",
       "      <td>0</td>\n",
       "      <td>1600</td>\n",
       "      <td>5</td>\n",
       "      <td>1103</td>\n",
       "      <td>High</td>\n",
       "      <td>943.159091</td>\n",
       "      <td>3.666667</td>\n",
       "      <td>943.159091</td>\n",
       "    </tr>\n",
       "    <tr>\n",
       "      <th>...</th>\n",
       "      <td>...</td>\n",
       "      <td>...</td>\n",
       "      <td>...</td>\n",
       "      <td>...</td>\n",
       "      <td>...</td>\n",
       "      <td>...</td>\n",
       "      <td>...</td>\n",
       "      <td>...</td>\n",
       "      <td>...</td>\n",
       "      <td>...</td>\n",
       "      <td>...</td>\n",
       "      <td>...</td>\n",
       "      <td>...</td>\n",
       "      <td>...</td>\n",
       "    </tr>\n",
       "    <tr>\n",
       "      <th>1336</th>\n",
       "      <td>8500</td>\n",
       "      <td>79.0</td>\n",
       "      <td>63918.0</td>\n",
       "      <td>NaN</td>\n",
       "      <td>110</td>\n",
       "      <td>NaN</td>\n",
       "      <td>0</td>\n",
       "      <td>1600</td>\n",
       "      <td>4</td>\n",
       "      <td>1035</td>\n",
       "      <td>Medium</td>\n",
       "      <td>809.088608</td>\n",
       "      <td>6.583333</td>\n",
       "      <td>809.088608</td>\n",
       "    </tr>\n",
       "    <tr>\n",
       "      <th>1393</th>\n",
       "      <td>7250</td>\n",
       "      <td>69.0</td>\n",
       "      <td>49640.0</td>\n",
       "      <td>NaN</td>\n",
       "      <td>110</td>\n",
       "      <td>1.0</td>\n",
       "      <td>0</td>\n",
       "      <td>1600</td>\n",
       "      <td>4</td>\n",
       "      <td>1035</td>\n",
       "      <td>Low</td>\n",
       "      <td>719.420290</td>\n",
       "      <td>5.750000</td>\n",
       "      <td>719.420290</td>\n",
       "    </tr>\n",
       "    <tr>\n",
       "      <th>1394</th>\n",
       "      <td>7450</td>\n",
       "      <td>80.0</td>\n",
       "      <td>49580.0</td>\n",
       "      <td>NaN</td>\n",
       "      <td>110</td>\n",
       "      <td>1.0</td>\n",
       "      <td>0</td>\n",
       "      <td>1600</td>\n",
       "      <td>4</td>\n",
       "      <td>1035</td>\n",
       "      <td>Low</td>\n",
       "      <td>619.750000</td>\n",
       "      <td>6.666667</td>\n",
       "      <td>619.750000</td>\n",
       "    </tr>\n",
       "    <tr>\n",
       "      <th>1420</th>\n",
       "      <td>8150</td>\n",
       "      <td>76.0</td>\n",
       "      <td>36537.0</td>\n",
       "      <td>NaN</td>\n",
       "      <td>110</td>\n",
       "      <td>0.0</td>\n",
       "      <td>1</td>\n",
       "      <td>1600</td>\n",
       "      <td>4</td>\n",
       "      <td>1075</td>\n",
       "      <td>Low</td>\n",
       "      <td>480.750000</td>\n",
       "      <td>6.333333</td>\n",
       "      <td>480.750000</td>\n",
       "    </tr>\n",
       "    <tr>\n",
       "      <th>1422</th>\n",
       "      <td>7600</td>\n",
       "      <td>NaN</td>\n",
       "      <td>36000.0</td>\n",
       "      <td>NaN</td>\n",
       "      <td>110</td>\n",
       "      <td>1.0</td>\n",
       "      <td>0</td>\n",
       "      <td>1600</td>\n",
       "      <td>3</td>\n",
       "      <td>1050</td>\n",
       "      <td>Low</td>\n",
       "      <td>NaN</td>\n",
       "      <td>NaN</td>\n",
       "      <td>NaN</td>\n",
       "    </tr>\n",
       "  </tbody>\n",
       "</table>\n",
       "<p>1436 rows × 14 columns</p>\n",
       "</div>"
      ],
      "text/plain": [
       "      Price   Age        KM FuelType   HP MetColor Automatic    CC  Doors  \\\n",
       "189    7750  43.0  178858.0      CNG  110      0.0         0  1600      3   \n",
       "199   11950   NaN   98823.0      CNG  110      1.0         0  1600      5   \n",
       "209   11950  37.0   82743.0      CNG  110      1.0         0  1600      5   \n",
       "223   14950  44.0   71793.0      CNG  110      NaN         0  1600      4   \n",
       "296   12950  44.0   41499.0      CNG  110      1.0         0  1600      5   \n",
       "...     ...   ...       ...      ...  ...      ...       ...   ...    ...   \n",
       "1336   8500  79.0   63918.0      NaN  110      NaN         0  1600      4   \n",
       "1393   7250  69.0   49640.0      NaN  110      1.0         0  1600      4   \n",
       "1394   7450  80.0   49580.0      NaN  110      1.0         0  1600      4   \n",
       "1420   8150  76.0   36537.0      NaN  110      0.0         1  1600      4   \n",
       "1422   7600   NaN   36000.0      NaN  110      1.0         0  1600      3   \n",
       "\n",
       "      Weight Price_class  KM_per_month  age_converted  km_per_month  \n",
       "189     1084         Low   4159.488372       3.583333   4159.488372  \n",
       "199     1119      Medium           NaN            NaN           NaN  \n",
       "209     1121      Medium   2236.297297       3.083333   2236.297297  \n",
       "223     1067        High   1631.659091       3.666667   1631.659091  \n",
       "296     1103        High    943.159091       3.666667    943.159091  \n",
       "...      ...         ...           ...            ...           ...  \n",
       "1336    1035      Medium    809.088608       6.583333    809.088608  \n",
       "1393    1035         Low    719.420290       5.750000    719.420290  \n",
       "1394    1035         Low    619.750000       6.666667    619.750000  \n",
       "1420    1075         Low    480.750000       6.333333    480.750000  \n",
       "1422    1050         Low           NaN            NaN           NaN  \n",
       "\n",
       "[1436 rows x 14 columns]"
      ]
     },
     "execution_count": 75,
     "metadata": {},
     "output_type": "execute_result"
    }
   ],
   "source": [
    "# now sort values in dataframe\n",
    "cars2.sort_values([\"FuelType\",\"HP\"], ascending = [1,0])"
   ]
  },
  {
   "cell_type": "code",
   "execution_count": 76,
   "id": "45900fae",
   "metadata": {},
   "outputs": [
    {
     "data": {
      "text/html": [
       "<div>\n",
       "<style scoped>\n",
       "    .dataframe tbody tr th:only-of-type {\n",
       "        vertical-align: middle;\n",
       "    }\n",
       "\n",
       "    .dataframe tbody tr th {\n",
       "        vertical-align: top;\n",
       "    }\n",
       "\n",
       "    .dataframe thead th {\n",
       "        text-align: right;\n",
       "    }\n",
       "</style>\n",
       "<table border=\"1\" class=\"dataframe\">\n",
       "  <thead>\n",
       "    <tr style=\"text-align: right;\">\n",
       "      <th></th>\n",
       "      <th>Price</th>\n",
       "      <th>Age</th>\n",
       "      <th>KM</th>\n",
       "      <th>CC</th>\n",
       "      <th>Doors</th>\n",
       "      <th>Weight</th>\n",
       "      <th>KM_per_month</th>\n",
       "      <th>age_converted</th>\n",
       "      <th>km_per_month</th>\n",
       "    </tr>\n",
       "  </thead>\n",
       "  <tbody>\n",
       "    <tr>\n",
       "      <th>count</th>\n",
       "      <td>1436.000000</td>\n",
       "      <td>1336.000000</td>\n",
       "      <td>1421.000000</td>\n",
       "      <td>1436.000000</td>\n",
       "      <td>1436.000000</td>\n",
       "      <td>1436.00000</td>\n",
       "      <td>1321.000000</td>\n",
       "      <td>1336.000000</td>\n",
       "      <td>1321.000000</td>\n",
       "    </tr>\n",
       "    <tr>\n",
       "      <th>mean</th>\n",
       "      <td>10730.824513</td>\n",
       "      <td>55.672156</td>\n",
       "      <td>68647.239972</td>\n",
       "      <td>1566.827994</td>\n",
       "      <td>4.033426</td>\n",
       "      <td>1072.45961</td>\n",
       "      <td>1260.217457</td>\n",
       "      <td>4.639346</td>\n",
       "      <td>1260.217457</td>\n",
       "    </tr>\n",
       "    <tr>\n",
       "      <th>std</th>\n",
       "      <td>3626.964585</td>\n",
       "      <td>18.589804</td>\n",
       "      <td>37333.023589</td>\n",
       "      <td>187.182436</td>\n",
       "      <td>0.952677</td>\n",
       "      <td>52.64112</td>\n",
       "      <td>638.188748</td>\n",
       "      <td>1.549150</td>\n",
       "      <td>638.188748</td>\n",
       "    </tr>\n",
       "    <tr>\n",
       "      <th>min</th>\n",
       "      <td>4350.000000</td>\n",
       "      <td>1.000000</td>\n",
       "      <td>1.000000</td>\n",
       "      <td>1300.000000</td>\n",
       "      <td>2.000000</td>\n",
       "      <td>1000.00000</td>\n",
       "      <td>0.013158</td>\n",
       "      <td>0.083333</td>\n",
       "      <td>0.013158</td>\n",
       "    </tr>\n",
       "    <tr>\n",
       "      <th>25%</th>\n",
       "      <td>8450.000000</td>\n",
       "      <td>43.000000</td>\n",
       "      <td>43210.000000</td>\n",
       "      <td>1400.000000</td>\n",
       "      <td>3.000000</td>\n",
       "      <td>1040.00000</td>\n",
       "      <td>865.000000</td>\n",
       "      <td>3.583333</td>\n",
       "      <td>865.000000</td>\n",
       "    </tr>\n",
       "    <tr>\n",
       "      <th>50%</th>\n",
       "      <td>9900.000000</td>\n",
       "      <td>60.000000</td>\n",
       "      <td>63634.000000</td>\n",
       "      <td>1600.000000</td>\n",
       "      <td>4.000000</td>\n",
       "      <td>1070.00000</td>\n",
       "      <td>1135.762712</td>\n",
       "      <td>5.000000</td>\n",
       "      <td>1135.762712</td>\n",
       "    </tr>\n",
       "    <tr>\n",
       "      <th>75%</th>\n",
       "      <td>11950.000000</td>\n",
       "      <td>70.000000</td>\n",
       "      <td>87000.000000</td>\n",
       "      <td>1600.000000</td>\n",
       "      <td>5.000000</td>\n",
       "      <td>1085.00000</td>\n",
       "      <td>1513.965517</td>\n",
       "      <td>5.833333</td>\n",
       "      <td>1513.965517</td>\n",
       "    </tr>\n",
       "    <tr>\n",
       "      <th>max</th>\n",
       "      <td>32500.000000</td>\n",
       "      <td>80.000000</td>\n",
       "      <td>243000.000000</td>\n",
       "      <td>2000.000000</td>\n",
       "      <td>5.000000</td>\n",
       "      <td>1615.00000</td>\n",
       "      <td>5651.162791</td>\n",
       "      <td>6.666667</td>\n",
       "      <td>5651.162791</td>\n",
       "    </tr>\n",
       "  </tbody>\n",
       "</table>\n",
       "</div>"
      ],
      "text/plain": [
       "              Price          Age             KM           CC        Doors  \\\n",
       "count   1436.000000  1336.000000    1421.000000  1436.000000  1436.000000   \n",
       "mean   10730.824513    55.672156   68647.239972  1566.827994     4.033426   \n",
       "std     3626.964585    18.589804   37333.023589   187.182436     0.952677   \n",
       "min     4350.000000     1.000000       1.000000  1300.000000     2.000000   \n",
       "25%     8450.000000    43.000000   43210.000000  1400.000000     3.000000   \n",
       "50%     9900.000000    60.000000   63634.000000  1600.000000     4.000000   \n",
       "75%    11950.000000    70.000000   87000.000000  1600.000000     5.000000   \n",
       "max    32500.000000    80.000000  243000.000000  2000.000000     5.000000   \n",
       "\n",
       "           Weight  KM_per_month  age_converted  km_per_month  \n",
       "count  1436.00000   1321.000000    1336.000000   1321.000000  \n",
       "mean   1072.45961   1260.217457       4.639346   1260.217457  \n",
       "std      52.64112    638.188748       1.549150    638.188748  \n",
       "min    1000.00000      0.013158       0.083333      0.013158  \n",
       "25%    1040.00000    865.000000       3.583333    865.000000  \n",
       "50%    1070.00000   1135.762712       5.000000   1135.762712  \n",
       "75%    1085.00000   1513.965517       5.833333   1513.965517  \n",
       "max    1615.00000   5651.162791       6.666667   5651.162791  "
      ]
     },
     "execution_count": 76,
     "metadata": {},
     "output_type": "execute_result"
    }
   ],
   "source": [
    "#describe the dataframe\n",
    "cars2.describe()"
   ]
  },
  {
   "cell_type": "code",
   "execution_count": 77,
   "id": "80d6db90",
   "metadata": {},
   "outputs": [],
   "source": [
    "cars2 = cars2.to_csv(\"modified.txt\", sep=\"\\t\", index=False)"
   ]
  },
  {
   "cell_type": "code",
   "execution_count": 79,
   "id": "2c62d5f6",
   "metadata": {},
   "outputs": [
    {
     "data": {
      "text/plain": [
       "['.ipynb_checkpoints',\n",
       " 'Cars Data Analysis.ipynb',\n",
       " 'filtered.csv',\n",
       " 'income.csv',\n",
       " 'Introduction with pandas .ipynb',\n",
       " 'Iris_data_sample.xlsx',\n",
       " 'modified.txt',\n",
       " 'Toyota.csv']"
      ]
     },
     "execution_count": 79,
     "metadata": {},
     "output_type": "execute_result"
    }
   ],
   "source": [
    "os.listdir()"
   ]
  },
  {
   "cell_type": "code",
   "execution_count": 80,
   "id": "3346a603",
   "metadata": {},
   "outputs": [
    {
     "data": {
      "text/plain": [
       "FuelType  HP  \n",
       "CNG       110      15\n",
       "Diesel    110       2\n",
       "          116       7\n",
       "          69       31\n",
       "          72       69\n",
       "          73        1\n",
       "          90       31\n",
       "          ????      3\n",
       "Petrol    107      21\n",
       "          110     760\n",
       "          116       1\n",
       "          192      10\n",
       "          71        1\n",
       "          86      226\n",
       "          97      154\n",
       "          98        2\n",
       "          ????      2\n",
       "Name: count, dtype: int64"
      ]
     },
     "execution_count": 80,
     "metadata": {},
     "output_type": "execute_result"
    }
   ],
   "source": [
    "# make filtered groups\n",
    "cars3 = pd.read_csv('filtered.csv')\n",
    "\n",
    "cars3['count'] = 1\n",
    "\n",
    "cars3.groupby(['FuelType', 'HP']).count()['count']"
   ]
  },
  {
   "cell_type": "markdown",
   "id": "8e8224a6",
   "metadata": {},
   "source": [
    "# Explatory Analysis"
   ]
  },
  {
   "cell_type": "code",
   "execution_count": 81,
   "id": "7d96d840",
   "metadata": {},
   "outputs": [
    {
     "data": {
      "text/html": [
       "<div>\n",
       "<style scoped>\n",
       "    .dataframe tbody tr th:only-of-type {\n",
       "        vertical-align: middle;\n",
       "    }\n",
       "\n",
       "    .dataframe tbody tr th {\n",
       "        vertical-align: top;\n",
       "    }\n",
       "\n",
       "    .dataframe thead th {\n",
       "        text-align: right;\n",
       "    }\n",
       "</style>\n",
       "<table border=\"1\" class=\"dataframe\">\n",
       "  <thead>\n",
       "    <tr style=\"text-align: right;\">\n",
       "      <th>col_0</th>\n",
       "      <th>count</th>\n",
       "    </tr>\n",
       "    <tr>\n",
       "      <th>FuelType</th>\n",
       "      <th></th>\n",
       "    </tr>\n",
       "  </thead>\n",
       "  <tbody>\n",
       "    <tr>\n",
       "      <th>CNG</th>\n",
       "      <td>15</td>\n",
       "    </tr>\n",
       "    <tr>\n",
       "      <th>Diesel</th>\n",
       "      <td>144</td>\n",
       "    </tr>\n",
       "    <tr>\n",
       "      <th>Petrol</th>\n",
       "      <td>1177</td>\n",
       "    </tr>\n",
       "  </tbody>\n",
       "</table>\n",
       "</div>"
      ],
      "text/plain": [
       "col_0     count\n",
       "FuelType       \n",
       "CNG          15\n",
       "Diesel      144\n",
       "Petrol     1177"
      ]
     },
     "execution_count": 81,
     "metadata": {},
     "output_type": "execute_result"
    }
   ],
   "source": [
    "# Check the relationship between two categorical variables with cross tabulation\n",
    "pd.crosstab(index=cars3['FuelType'], columns='count', dropna=True)"
   ]
  },
  {
   "cell_type": "code",
   "execution_count": 82,
   "id": "d0c75acb",
   "metadata": {},
   "outputs": [
    {
     "data": {
      "text/html": [
       "<div>\n",
       "<style scoped>\n",
       "    .dataframe tbody tr th:only-of-type {\n",
       "        vertical-align: middle;\n",
       "    }\n",
       "\n",
       "    .dataframe tbody tr th {\n",
       "        vertical-align: top;\n",
       "    }\n",
       "\n",
       "    .dataframe thead th {\n",
       "        text-align: right;\n",
       "    }\n",
       "</style>\n",
       "<table border=\"1\" class=\"dataframe\">\n",
       "  <thead>\n",
       "    <tr style=\"text-align: right;\">\n",
       "      <th>FuelType</th>\n",
       "      <th>CNG</th>\n",
       "      <th>Diesel</th>\n",
       "      <th>Petrol</th>\n",
       "    </tr>\n",
       "    <tr>\n",
       "      <th>Automatic</th>\n",
       "      <th></th>\n",
       "      <th></th>\n",
       "      <th></th>\n",
       "    </tr>\n",
       "  </thead>\n",
       "  <tbody>\n",
       "    <tr>\n",
       "      <th>0</th>\n",
       "      <td>15</td>\n",
       "      <td>144</td>\n",
       "      <td>1104</td>\n",
       "    </tr>\n",
       "    <tr>\n",
       "      <th>1</th>\n",
       "      <td>0</td>\n",
       "      <td>0</td>\n",
       "      <td>73</td>\n",
       "    </tr>\n",
       "  </tbody>\n",
       "</table>\n",
       "</div>"
      ],
      "text/plain": [
       "FuelType   CNG  Diesel  Petrol\n",
       "Automatic                     \n",
       "0           15     144    1104\n",
       "1            0       0      73"
      ]
     },
     "execution_count": 82,
     "metadata": {},
     "output_type": "execute_result"
    }
   ],
   "source": [
    "pd.crosstab(index = cars3['Automatic'], \n",
    "            columns=cars3['FuelType'],\n",
    "            dropna=True)"
   ]
  },
  {
   "cell_type": "code",
   "execution_count": 83,
   "id": "8b1c1029",
   "metadata": {},
   "outputs": [
    {
     "data": {
      "text/html": [
       "<div>\n",
       "<style scoped>\n",
       "    .dataframe tbody tr th:only-of-type {\n",
       "        vertical-align: middle;\n",
       "    }\n",
       "\n",
       "    .dataframe tbody tr th {\n",
       "        vertical-align: top;\n",
       "    }\n",
       "\n",
       "    .dataframe thead th {\n",
       "        text-align: right;\n",
       "    }\n",
       "</style>\n",
       "<table border=\"1\" class=\"dataframe\">\n",
       "  <thead>\n",
       "    <tr style=\"text-align: right;\">\n",
       "      <th>FuelType</th>\n",
       "      <th>CNG</th>\n",
       "      <th>Diesel</th>\n",
       "      <th>Petrol</th>\n",
       "    </tr>\n",
       "    <tr>\n",
       "      <th>Automatic</th>\n",
       "      <th></th>\n",
       "      <th></th>\n",
       "      <th></th>\n",
       "    </tr>\n",
       "  </thead>\n",
       "  <tbody>\n",
       "    <tr>\n",
       "      <th>0</th>\n",
       "      <td>0.011228</td>\n",
       "      <td>0.107784</td>\n",
       "      <td>0.826347</td>\n",
       "    </tr>\n",
       "    <tr>\n",
       "      <th>1</th>\n",
       "      <td>0.000000</td>\n",
       "      <td>0.000000</td>\n",
       "      <td>0.054641</td>\n",
       "    </tr>\n",
       "  </tbody>\n",
       "</table>\n",
       "</div>"
      ],
      "text/plain": [
       "FuelType        CNG    Diesel    Petrol\n",
       "Automatic                              \n",
       "0          0.011228  0.107784  0.826347\n",
       "1          0.000000  0.000000  0.054641"
      ]
     },
     "execution_count": 83,
     "metadata": {},
     "output_type": "execute_result"
    }
   ],
   "source": [
    "pd.crosstab(index = cars3['Automatic'], \n",
    "            columns=cars3['FuelType'],\n",
    "            normalize=True,\n",
    "            dropna=True)"
   ]
  },
  {
   "cell_type": "code",
   "execution_count": 84,
   "id": "b1fb67b4",
   "metadata": {},
   "outputs": [
    {
     "data": {
      "text/html": [
       "<div>\n",
       "<style scoped>\n",
       "    .dataframe tbody tr th:only-of-type {\n",
       "        vertical-align: middle;\n",
       "    }\n",
       "\n",
       "    .dataframe tbody tr th {\n",
       "        vertical-align: top;\n",
       "    }\n",
       "\n",
       "    .dataframe thead th {\n",
       "        text-align: right;\n",
       "    }\n",
       "</style>\n",
       "<table border=\"1\" class=\"dataframe\">\n",
       "  <thead>\n",
       "    <tr style=\"text-align: right;\">\n",
       "      <th>FuelType</th>\n",
       "      <th>CNG</th>\n",
       "      <th>Diesel</th>\n",
       "      <th>Petrol</th>\n",
       "      <th>All</th>\n",
       "    </tr>\n",
       "    <tr>\n",
       "      <th>Automatic</th>\n",
       "      <th></th>\n",
       "      <th></th>\n",
       "      <th></th>\n",
       "      <th></th>\n",
       "    </tr>\n",
       "  </thead>\n",
       "  <tbody>\n",
       "    <tr>\n",
       "      <th>0</th>\n",
       "      <td>0.011228</td>\n",
       "      <td>0.107784</td>\n",
       "      <td>0.826347</td>\n",
       "      <td>0.945359</td>\n",
       "    </tr>\n",
       "    <tr>\n",
       "      <th>1</th>\n",
       "      <td>0.000000</td>\n",
       "      <td>0.000000</td>\n",
       "      <td>0.054641</td>\n",
       "      <td>0.054641</td>\n",
       "    </tr>\n",
       "    <tr>\n",
       "      <th>All</th>\n",
       "      <td>0.011228</td>\n",
       "      <td>0.107784</td>\n",
       "      <td>0.880988</td>\n",
       "      <td>1.000000</td>\n",
       "    </tr>\n",
       "  </tbody>\n",
       "</table>\n",
       "</div>"
      ],
      "text/plain": [
       "FuelType        CNG    Diesel    Petrol       All\n",
       "Automatic                                        \n",
       "0          0.011228  0.107784  0.826347  0.945359\n",
       "1          0.000000  0.000000  0.054641  0.054641\n",
       "All        0.011228  0.107784  0.880988  1.000000"
      ]
     },
     "execution_count": 84,
     "metadata": {},
     "output_type": "execute_result"
    }
   ],
   "source": [
    "pd.crosstab(index = cars3['Automatic'], \n",
    "            columns=cars3['FuelType'],\n",
    "            margins=True,\n",
    "            normalize=True,\n",
    "            dropna=True)"
   ]
  },
  {
   "cell_type": "code",
   "execution_count": null,
   "id": "47c96b09",
   "metadata": {},
   "outputs": [],
   "source": []
  }
 ],
 "metadata": {
  "kernelspec": {
   "display_name": "Python 3 (ipykernel)",
   "language": "python",
   "name": "python3"
  },
  "language_info": {
   "codemirror_mode": {
    "name": "ipython",
    "version": 3
   },
   "file_extension": ".py",
   "mimetype": "text/x-python",
   "name": "python",
   "nbconvert_exporter": "python",
   "pygments_lexer": "ipython3",
   "version": "3.9.7"
  }
 },
 "nbformat": 4,
 "nbformat_minor": 5
}
