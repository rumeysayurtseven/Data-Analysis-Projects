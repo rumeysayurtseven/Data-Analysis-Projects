{
 "cells": [
  {
   "cell_type": "markdown",
   "id": "5aa54da6-12c1-4ea2-b6e5-9b46c52b682e",
   "metadata": {
    "tags": []
   },
   "source": [
    "# **ÖDEV-2**"
   ]
  },
  {
   "cell_type": "markdown",
   "id": "0fc79ed2-e47c-4fc8-9615-df8510cb7f1f",
   "metadata": {},
   "source": [
    "1-Numpy kütüphanesini import edin."
   ]
  },
  {
   "cell_type": "code",
   "execution_count": 2,
   "id": "10e279ef-fc74-4aea-ba53-831e65356a4b",
   "metadata": {},
   "outputs": [],
   "source": [
    "import numpy as np"
   ]
  },
  {
   "cell_type": "markdown",
   "id": "e9252687-0c17-419f-befc-559632204b18",
   "metadata": {},
   "source": [
    "2-1'den 5 e kadar (5 dahil) b isimli bir dizi oluşturun."
   ]
  },
  {
   "cell_type": "code",
   "execution_count": 3,
   "id": "9cfa2820-b6b5-46e5-beba-7f76ef59faf0",
   "metadata": {},
   "outputs": [
    {
     "data": {
      "text/plain": [
       "array([1, 2, 3, 4, 5])"
      ]
     },
     "execution_count": 3,
     "metadata": {},
     "output_type": "execute_result"
    }
   ],
   "source": [
    "np.array([1,2,3,4,5])"
   ]
  },
  {
   "cell_type": "markdown",
   "id": "5664bfd3-8011-4575-a10a-f23b18a11fce",
   "metadata": {},
   "source": [
    "3- 20 adet 0'dan oluşan 4 x 5' lik dizi oluşturun."
   ]
  },
  {
   "cell_type": "code",
   "execution_count": 3,
   "id": "34b2b71c-dff4-4e05-b009-91eae307b113",
   "metadata": {},
   "outputs": [
    {
     "data": {
      "text/plain": [
       "array([[0, 0, 0, 0, 0],\n",
       "       [0, 0, 0, 0, 0],\n",
       "       [0, 0, 0, 0, 0],\n",
       "       [0, 0, 0, 0, 0]])"
      ]
     },
     "execution_count": 3,
     "metadata": {},
     "output_type": "execute_result"
    }
   ],
   "source": [
    "np.zeros((4,5), dtype = int)"
   ]
  },
  {
   "cell_type": "markdown",
   "id": "b571ec93-687f-42d7-ba55-cd082eeee6fa",
   "metadata": {},
   "source": [
    "4- 15 adet 7 sayısından oluşan diziyi 3x5 olarak yazın."
   ]
  },
  {
   "cell_type": "code",
   "execution_count": 7,
   "id": "0fb8760b-04dc-4d93-8282-664484b28328",
   "metadata": {},
   "outputs": [
    {
     "data": {
      "text/plain": [
       "array([[7, 7, 7, 7, 7],\n",
       "       [7, 7, 7, 7, 7],\n",
       "       [7, 7, 7, 7, 7]])"
      ]
     },
     "execution_count": 7,
     "metadata": {},
     "output_type": "execute_result"
    }
   ],
   "source": [
    "np.full((3,5), 7)"
   ]
  },
  {
   "cell_type": "markdown",
   "id": "ee34b066-12b3-45d9-92bc-62f88ab4c753",
   "metadata": {},
   "source": [
    "5- 10–70 e kadar 5 er artan sayıları yaz."
   ]
  },
  {
   "cell_type": "code",
   "execution_count": 8,
   "id": "7e7c1a5e-6cd6-48a4-acf2-bbb89ddc05fe",
   "metadata": {},
   "outputs": [
    {
     "data": {
      "text/plain": [
       "array([10, 15, 20, 25, 30, 35, 40, 45, 50, 55, 60, 65])"
      ]
     },
     "execution_count": 8,
     "metadata": {},
     "output_type": "execute_result"
    }
   ],
   "source": [
    "np.arange(10,70, 5)"
   ]
  },
  {
   "cell_type": "markdown",
   "id": "520efa56-fd4e-483c-a084-5ce79c0b687b",
   "metadata": {},
   "source": [
    "6- 10–20 arasında 15 aynı uzaklıkta elemanı olan array oluşturun. (linspace metodunu kullanın.)"
   ]
  },
  {
   "cell_type": "code",
   "execution_count": 9,
   "id": "21b1f1de-64cb-424c-acea-b5e2824c1a3a",
   "metadata": {},
   "outputs": [
    {
     "data": {
      "text/plain": [
       "array([10.        , 10.71428571, 11.42857143, 12.14285714, 12.85714286,\n",
       "       13.57142857, 14.28571429, 15.        , 15.71428571, 16.42857143,\n",
       "       17.14285714, 17.85714286, 18.57142857, 19.28571429, 20.        ])"
      ]
     },
     "execution_count": 9,
     "metadata": {},
     "output_type": "execute_result"
    }
   ],
   "source": [
    "np.linspace(10,20,15)"
   ]
  },
  {
   "cell_type": "markdown",
   "id": "7b889d5c-5ae2-470d-afb8-dda163eb9109",
   "metadata": {},
   "source": [
    "7- Rastgele sayılardan oluşan diziyi 3x5 boyutunda yazdır."
   ]
  },
  {
   "cell_type": "code",
   "execution_count": 13,
   "id": "78fcd586-ceb1-4ecf-bbe2-ea35b749ffde",
   "metadata": {},
   "outputs": [
    {
     "data": {
      "text/plain": [
       "array([[1, 2, 2, 9, 0],\n",
       "       [4, 7, 2, 7, 3],\n",
       "       [9, 1, 7, 0, 5]])"
      ]
     },
     "execution_count": 13,
     "metadata": {},
     "output_type": "execute_result"
    }
   ],
   "source": [
    "np.random.randint(0,10, (3,5))"
   ]
  },
  {
   "cell_type": "markdown",
   "id": "ea4131f4-1ad8-465f-8cad-0e675b2d14a6",
   "metadata": {},
   "source": [
    "8- 5 elemanlı birim matris oluşturun. eye() metodu kullanın."
   ]
  },
  {
   "cell_type": "code",
   "execution_count": 4,
   "id": "a0801eef-4432-47da-97c4-499908a3ae34",
   "metadata": {},
   "outputs": [
    {
     "data": {
      "text/plain": [
       "array([[1., 0., 0., 0., 0.],\n",
       "       [0., 1., 0., 0., 0.],\n",
       "       [0., 0., 1., 0., 0.],\n",
       "       [0., 0., 0., 1., 0.],\n",
       "       [0., 0., 0., 0., 1.]])"
      ]
     },
     "execution_count": 4,
     "metadata": {},
     "output_type": "execute_result"
    }
   ],
   "source": [
    "np.eye(5)"
   ]
  },
  {
   "cell_type": "markdown",
   "id": "9977eb30-ba6a-40eb-b837-f044caf08532",
   "metadata": {},
   "source": [
    "9- 0'dan 24 e kadar array oluştur. Sonra reshape metodu ile 4x6 boyutu olarak yazın."
   ]
  },
  {
   "cell_type": "code",
   "execution_count": 10,
   "id": "12a6ebc5-f66b-4c1a-95d0-9e756f79e1d8",
   "metadata": {},
   "outputs": [
    {
     "data": {
      "text/plain": [
       "array([[ 0,  1,  2,  3,  4,  5],\n",
       "       [ 6,  7,  8,  9, 10, 11],\n",
       "       [12, 13, 14, 15, 16, 17],\n",
       "       [18, 19, 20, 21, 22, 23]])"
      ]
     },
     "execution_count": 10,
     "metadata": {},
     "output_type": "execute_result"
    }
   ],
   "source": [
    "arr = np.arange(0,24)\n",
    "arr.reshape(4,6)"
   ]
  },
  {
   "cell_type": "markdown",
   "id": "ed17eab4-f8c9-4c7b-8cfc-33693ecc01df",
   "metadata": {},
   "source": [
    "10- 0 ile 1 arasında rastgele 10 sayıdan oluşan bir array tanımlayın. Minimum ve maksimum değerleri bulun."
   ]
  },
  {
   "cell_type": "code",
   "execution_count": 4,
   "id": "12d80fdd-1133-4ced-afe6-757a0f5a613c",
   "metadata": {},
   "outputs": [
    {
     "name": "stdout",
     "output_type": "stream",
     "text": [
      "0.0756526486283483\n",
      "0.9816402836851049\n"
     ]
    }
   ],
   "source": [
    "arr1 = np.random.rand(10)\n",
    "arr1\n",
    "print(min(arr1))\n",
    "print(max(arr1))"
   ]
  },
  {
   "cell_type": "markdown",
   "id": "8e4d6c2a-806d-492b-bff9-a6b67b696b4e",
   "metadata": {},
   "source": [
    "11- 36 sayıdan oluşan rastgele sayılar 6x6' lık array olarak yazdırın."
   ]
  },
  {
   "cell_type": "code",
   "execution_count": 5,
   "id": "4e287f8b-536d-4c64-9a8d-e21d38a32493",
   "metadata": {},
   "outputs": [
    {
     "data": {
      "text/plain": [
       "array([[16,  1, 16, 16,  7, 21],\n",
       "       [20, 30, 28,  5, 16, 11],\n",
       "       [ 5, 11, 20, 13, 15, 29],\n",
       "       [ 5,  3, 23, 18,  2, 17],\n",
       "       [20,  9,  8,  7, 33, 14],\n",
       "       [19,  8, 34,  2, 14, 27]])"
      ]
     },
     "execution_count": 5,
     "metadata": {},
     "output_type": "execute_result"
    }
   ],
   "source": [
    "arr2 = np.random.randint(36, size =(6,6))\n",
    "arr2"
   ]
  },
  {
   "cell_type": "markdown",
   "id": "c81dc2f7-5c00-4d43-853e-5cc4035e6eca",
   "metadata": {},
   "source": [
    "12- 5.satırdaki elemanları gösteriniz."
   ]
  },
  {
   "cell_type": "code",
   "execution_count": 6,
   "id": "8e65370d-93b4-48c4-a900-63196804b624",
   "metadata": {},
   "outputs": [
    {
     "data": {
      "text/plain": [
       "array([20,  9,  8,  7, 33, 14])"
      ]
     },
     "execution_count": 6,
     "metadata": {},
     "output_type": "execute_result"
    }
   ],
   "source": [
    "arr2[4]"
   ]
  },
  {
   "cell_type": "markdown",
   "id": "245ff696-9131-4099-b4da-fd6a742638a7",
   "metadata": {},
   "source": [
    "13- 6.satır ve 6.sutundaki elemanları gösteriniz."
   ]
  },
  {
   "cell_type": "code",
   "execution_count": 7,
   "id": "0f2506f5-27ba-449f-9853-5722c12b74e0",
   "metadata": {},
   "outputs": [
    {
     "name": "stdout",
     "output_type": "stream",
     "text": [
      "[19  8 34  2 14 27]\n",
      "[21 11 29 17 14 27]\n"
     ]
    }
   ],
   "source": [
    "print(arr2[5])\n",
    "print(arr2[:, 5])"
   ]
  },
  {
   "cell_type": "markdown",
   "id": "0c33bb81-f4a9-4a67-8ab8-d422db01c442",
   "metadata": {},
   "source": [
    "14-4.sutundaki tüm elemanları çekin."
   ]
  },
  {
   "cell_type": "code",
   "execution_count": 8,
   "id": "85719a84-d27a-4cac-80c1-420d68ecdc7e",
   "metadata": {},
   "outputs": [
    {
     "data": {
      "text/plain": [
       "array([16,  5, 13, 18,  7,  2])"
      ]
     },
     "execution_count": 8,
     "metadata": {},
     "output_type": "execute_result"
    }
   ],
   "source": [
    "arr2[:, 3]"
   ]
  },
  {
   "cell_type": "markdown",
   "id": "e1ad52f0-1293-4db1-8825-78b65b87f7ba",
   "metadata": {},
   "source": [
    "15- For döngüsünü ve flat metodunu kullanarak satır satır elemanları yazdırınız."
   ]
  },
  {
   "cell_type": "code",
   "execution_count": 21,
   "id": "6e059ef3-6dd5-4478-8f88-dfa8a6f290d1",
   "metadata": {},
   "outputs": [
    {
     "name": "stdout",
     "output_type": "stream",
     "text": [
      "16\n",
      "1\n",
      "16\n",
      "16\n",
      "7\n",
      "21\n",
      "20\n",
      "30\n",
      "28\n",
      "5\n",
      "16\n",
      "11\n",
      "5\n",
      "11\n",
      "20\n",
      "13\n",
      "15\n",
      "29\n",
      "5\n",
      "3\n",
      "23\n",
      "18\n",
      "2\n",
      "17\n",
      "20\n",
      "9\n",
      "8\n",
      "7\n",
      "33\n",
      "14\n",
      "19\n",
      "8\n",
      "34\n",
      "2\n",
      "14\n",
      "27\n"
     ]
    }
   ],
   "source": [
    "for i in range(len(arr2)**2):\n",
    "    print(arr2.flat[i])"
   ]
  },
  {
   "cell_type": "markdown",
   "id": "01f6ea0d-c5a4-41c4-a065-353930cc9fc3",
   "metadata": {},
   "source": [
    "16- 0 ile 1 aralığında bir array oluştur. Bu array değerini 5 ile çarpın."
   ]
  },
  {
   "cell_type": "code",
   "execution_count": 3,
   "id": "4b7f14b2-f199-4fea-aef7-b8a908afc6a3",
   "metadata": {},
   "outputs": [
    {
     "data": {
      "text/plain": [
       "array([[7, 2, 4, 1, 0],\n",
       "       [1, 1, 0, 4, 3]])"
      ]
     },
     "execution_count": 3,
     "metadata": {},
     "output_type": "execute_result"
    }
   ],
   "source": [
    "arr3 = np.random.randint(10, size=(2,5))\n",
    "arr3"
   ]
  },
  {
   "cell_type": "markdown",
   "id": "4188e6c6-a996-479a-8659-f9786e51c7c7",
   "metadata": {},
   "source": [
    "16- Satırların toplam değeri nedir?"
   ]
  },
  {
   "cell_type": "code",
   "execution_count": 4,
   "id": "88893a73-6433-4624-9bfb-14940506100a",
   "metadata": {},
   "outputs": [
    {
     "data": {
      "text/plain": [
       "array([14,  9])"
      ]
     },
     "execution_count": 4,
     "metadata": {},
     "output_type": "execute_result"
    }
   ],
   "source": [
    "np.sum(arr3, axis=1)"
   ]
  },
  {
   "cell_type": "markdown",
   "id": "8499b1c0-f59c-49f9-9371-ecba2ec4881b",
   "metadata": {},
   "source": [
    "17-Satırların standart sapma değeri nedir?"
   ]
  },
  {
   "cell_type": "code",
   "execution_count": 6,
   "id": "acca3a3a-baac-447a-a012-1eb0c1b6e350",
   "metadata": {},
   "outputs": [
    {
     "data": {
      "text/plain": [
       "array([2.48193473, 1.46969385])"
      ]
     },
     "execution_count": 6,
     "metadata": {},
     "output_type": "execute_result"
    }
   ],
   "source": [
    "np.std(arr3, axis=1)"
   ]
  },
  {
   "cell_type": "markdown",
   "id": "72b44cf8-59a7-41e4-88c8-ef467855de60",
   "metadata": {},
   "source": [
    "18-Satırların varyans değeri nedir?"
   ]
  },
  {
   "cell_type": "code",
   "execution_count": 7,
   "id": "72e846ea-4a0a-4229-95d7-98ad58d99730",
   "metadata": {},
   "outputs": [
    {
     "data": {
      "text/plain": [
       "array([6.16, 2.16])"
      ]
     },
     "execution_count": 7,
     "metadata": {},
     "output_type": "execute_result"
    }
   ],
   "source": [
    "np.var(arr3, axis=1)"
   ]
  },
  {
   "cell_type": "markdown",
   "id": "84a08fe8-e474-4af1-8025-f295cc463a1a",
   "metadata": {},
   "source": [
    "19- Satırların transpoz değeri nedir?"
   ]
  },
  {
   "cell_type": "code",
   "execution_count": 8,
   "id": "76499239-3811-4fde-a9c1-15bd04d9d06a",
   "metadata": {},
   "outputs": [
    {
     "data": {
      "text/plain": [
       "array([[7, 1],\n",
       "       [2, 1],\n",
       "       [4, 0],\n",
       "       [1, 4],\n",
       "       [0, 3]])"
      ]
     },
     "execution_count": 8,
     "metadata": {},
     "output_type": "execute_result"
    }
   ],
   "source": [
    "arr3.transpose()"
   ]
  }
 ],
 "metadata": {
  "kernelspec": {
   "display_name": "Python 3 (ipykernel)",
   "language": "python",
   "name": "python3"
  },
  "language_info": {
   "codemirror_mode": {
    "name": "ipython",
    "version": 3
   },
   "file_extension": ".py",
   "mimetype": "text/x-python",
   "name": "python",
   "nbconvert_exporter": "python",
   "pygments_lexer": "ipython3",
   "version": "3.9.7"
  }
 },
 "nbformat": 4,
 "nbformat_minor": 5
}
